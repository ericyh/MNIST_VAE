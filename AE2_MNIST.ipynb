{
 "cells": [
  {
   "cell_type": "code",
   "execution_count": 1,
   "metadata": {},
   "outputs": [],
   "source": [
    "import torch\n",
    "import numpy as np\n",
    "import matplotlib.pyplot as plt\n",
    "import pandas as pd\n",
    "from torch import nn, optim\n",
    "from torch. optim.lr_scheduler import ExponentialLR"
   ]
  },
  {
   "cell_type": "code",
   "execution_count": 2,
   "metadata": {},
   "outputs": [
    {
     "name": "stdout",
     "output_type": "stream",
     "text": [
      "Downloading http://yann.lecun.com/exdb/mnist/train-images-idx3-ubyte.gz\n",
      "Failed to download (trying next):\n",
      "HTTP Error 404: Not Found\n",
      "\n",
      "Downloading https://ossci-datasets.s3.amazonaws.com/mnist/train-images-idx3-ubyte.gz\n",
      "Downloading https://ossci-datasets.s3.amazonaws.com/mnist/train-images-idx3-ubyte.gz to ./mnist_data/MNIST\\raw\\train-images-idx3-ubyte.gz\n"
     ]
    },
    {
     "name": "stderr",
     "output_type": "stream",
     "text": [
      "100%|██████████| 9.91M/9.91M [00:00<00:00, 11.6MB/s]\n"
     ]
    },
    {
     "name": "stdout",
     "output_type": "stream",
     "text": [
      "Extracting ./mnist_data/MNIST\\raw\\train-images-idx3-ubyte.gz to ./mnist_data/MNIST\\raw\n",
      "\n",
      "Downloading http://yann.lecun.com/exdb/mnist/train-labels-idx1-ubyte.gz\n",
      "Failed to download (trying next):\n",
      "HTTP Error 404: Not Found\n",
      "\n",
      "Downloading https://ossci-datasets.s3.amazonaws.com/mnist/train-labels-idx1-ubyte.gz\n",
      "Downloading https://ossci-datasets.s3.amazonaws.com/mnist/train-labels-idx1-ubyte.gz to ./mnist_data/MNIST\\raw\\train-labels-idx1-ubyte.gz\n"
     ]
    },
    {
     "name": "stderr",
     "output_type": "stream",
     "text": [
      "100%|██████████| 28.9k/28.9k [00:00<00:00, 388kB/s]\n"
     ]
    },
    {
     "name": "stdout",
     "output_type": "stream",
     "text": [
      "Extracting ./mnist_data/MNIST\\raw\\train-labels-idx1-ubyte.gz to ./mnist_data/MNIST\\raw\n",
      "\n",
      "Downloading http://yann.lecun.com/exdb/mnist/t10k-images-idx3-ubyte.gz\n",
      "Failed to download (trying next):\n",
      "HTTP Error 404: Not Found\n",
      "\n",
      "Downloading https://ossci-datasets.s3.amazonaws.com/mnist/t10k-images-idx3-ubyte.gz\n",
      "Downloading https://ossci-datasets.s3.amazonaws.com/mnist/t10k-images-idx3-ubyte.gz to ./mnist_data/MNIST\\raw\\t10k-images-idx3-ubyte.gz\n"
     ]
    },
    {
     "name": "stderr",
     "output_type": "stream",
     "text": [
      "100%|██████████| 1.65M/1.65M [00:00<00:00, 3.22MB/s]\n"
     ]
    },
    {
     "name": "stdout",
     "output_type": "stream",
     "text": [
      "Extracting ./mnist_data/MNIST\\raw\\t10k-images-idx3-ubyte.gz to ./mnist_data/MNIST\\raw\n",
      "\n",
      "Downloading http://yann.lecun.com/exdb/mnist/t10k-labels-idx1-ubyte.gz\n",
      "Failed to download (trying next):\n",
      "HTTP Error 404: Not Found\n",
      "\n",
      "Downloading https://ossci-datasets.s3.amazonaws.com/mnist/t10k-labels-idx1-ubyte.gz\n",
      "Downloading https://ossci-datasets.s3.amazonaws.com/mnist/t10k-labels-idx1-ubyte.gz to ./mnist_data/MNIST\\raw\\t10k-labels-idx1-ubyte.gz\n"
     ]
    },
    {
     "name": "stderr",
     "output_type": "stream",
     "text": [
      "100%|██████████| 4.54k/4.54k [00:00<?, ?B/s]"
     ]
    },
    {
     "name": "stdout",
     "output_type": "stream",
     "text": [
      "Extracting ./mnist_data/MNIST\\raw\\t10k-labels-idx1-ubyte.gz to ./mnist_data/MNIST\\raw\n",
      "\n"
     ]
    },
    {
     "name": "stderr",
     "output_type": "stream",
     "text": [
      "\n"
     ]
    }
   ],
   "source": [
    "from torchvision import datasets, transforms\n",
    "\n",
    "train_dataset = datasets.MNIST(root='./mnist_data/', train=True, transform=transforms.ToTensor(), download=True)\n",
    "test_dataset = datasets.MNIST(root='./mnist_data/', train=False, transform=transforms.ToTensor(), download=False)\n",
    "\n",
    "batch_size = 4000\n",
    "train_loader = torch.utils.data.DataLoader(dataset=train_dataset, batch_size=batch_size, shuffle=True)\n",
    "test_loader = torch.utils.data.DataLoader(dataset=test_dataset, batch_size=batch_size, shuffle=False)"
   ]
  },
  {
   "cell_type": "code",
   "execution_count": 24,
   "metadata": {},
   "outputs": [],
   "source": [
    "class Net(nn.Module):\n",
    "    def __init__(self):\n",
    "        super().__init__()\n",
    "        self.encoder = nn.Sequential(\n",
    "            nn.Conv2d(1,4,(3,3), (2,2)),\n",
    "            nn.ReLU(),\n",
    "            nn.Conv2d(4,8,(3,3), (2,2)),\n",
    "            nn.ReLU(),\n",
    "            nn.Conv2d(8,16,(3,3), (2,2)),\n",
    "            nn.ReLU(),\n",
    "        )\n",
    "        self.decoder = nn.Sequential(\n",
    "            nn.ConvTranspose2d(16, 8, (4,4),(2,2)),\n",
    "            nn.ReLU(),\n",
    "            nn.ConvTranspose2d(8, 4, (4,4),(2,2)),\n",
    "            nn.ReLU(),\n",
    "            nn.ConvTranspose2d(4, 2, (4,4),(2,2), padding = 1),\n",
    "        )\n",
    "    def forward(self, x):\n",
    "        x = self.encoder(x)\n",
    "        x = self.decoder(x)\n",
    "        return x"
   ]
  },
  {
   "cell_type": "code",
   "execution_count": 25,
   "metadata": {},
   "outputs": [
    {
     "data": {
      "text/plain": [
       "Net(\n",
       "  (encoder): Sequential(\n",
       "    (0): Conv2d(1, 4, kernel_size=(3, 3), stride=(2, 2))\n",
       "    (1): ReLU()\n",
       "    (2): Conv2d(4, 8, kernel_size=(3, 3), stride=(2, 2))\n",
       "    (3): ReLU()\n",
       "    (4): Conv2d(8, 16, kernel_size=(3, 3), stride=(2, 2))\n",
       "    (5): ReLU()\n",
       "  )\n",
       "  (decoder): Sequential(\n",
       "    (0): ConvTranspose2d(16, 8, kernel_size=(4, 4), stride=(2, 2))\n",
       "    (1): ReLU()\n",
       "    (2): ConvTranspose2d(8, 4, kernel_size=(4, 4), stride=(2, 2))\n",
       "    (3): ReLU()\n",
       "    (4): ConvTranspose2d(4, 2, kernel_size=(4, 4), stride=(2, 2), padding=(1, 1))\n",
       "  )\n",
       ")"
      ]
     },
     "execution_count": 25,
     "metadata": {},
     "output_type": "execute_result"
    }
   ],
   "source": [
    "model = Net()\n",
    "model.to(\"cuda\")"
   ]
  },
  {
   "cell_type": "code",
   "execution_count": 28,
   "metadata": {},
   "outputs": [
    {
     "name": "stdout",
     "output_type": "stream",
     "text": [
      "Epoch: 1 Train_Loss: 0.04346570745110512 Test_Loss: 0.04976436868309975 Learning_Rate: 0.00049005\n",
      "Epoch: 3 Train_Loss: 0.03365512564778328 Test_Loss: 0.035159435123205185 Learning_Rate: 0.00048029800499999997\n",
      "Epoch: 5 Train_Loss: 0.03559785336256027 Test_Loss: 0.03523630276322365 Learning_Rate: 0.00047074007470049995\n",
      "Epoch: 7 Train_Loss: 0.03365738317370415 Test_Loss: 0.034351300448179245 Learning_Rate: 0.00046137234721396\n",
      "Epoch: 9 Train_Loss: 0.03359812870621681 Test_Loss: 0.033755265176296234 Learning_Rate: 0.00045219103750440215\n",
      "Epoch: 11 Train_Loss: 0.033507417887449265 Test_Loss: 0.03347347304224968 Learning_Rate: 0.00044319243585806456\n",
      "Epoch: 13 Train_Loss: 0.03207843005657196 Test_Loss: 0.03246089071035385 Learning_Rate: 0.00043437290638448904\n",
      "Epoch: 15 Train_Loss: 0.032738082110881805 Test_Loss: 0.032795026898384094 Learning_Rate: 0.0004257288855474377\n",
      "Epoch: 17 Train_Loss: 0.03181051090359688 Test_Loss: 0.03185120224952698 Learning_Rate: 0.00041725688072504364\n",
      "Epoch: 19 Train_Loss: 0.03176288679242134 Test_Loss: 0.032253388315439224 Learning_Rate: 0.0004089534687986153\n",
      "Epoch: 21 Train_Loss: 0.03163539618253708 Test_Loss: 0.031422581523656845 Learning_Rate: 0.00040081529476952287\n",
      "Epoch: 23 Train_Loss: 0.0313459187746048 Test_Loss: 0.03133981302380562 Learning_Rate: 0.0003928390704036094\n",
      "Epoch: 25 Train_Loss: 0.030881376937031746 Test_Loss: 0.030907683074474335 Learning_Rate: 0.0003850215729025775\n",
      "Epoch: 27 Train_Loss: 0.031763024628162384 Test_Loss: 0.031790152192115784 Learning_Rate: 0.0003773596436018162\n",
      "Epoch: 29 Train_Loss: 0.030177777633070946 Test_Loss: 0.030631324276328087 Learning_Rate: 0.00036985018669414004\n",
      "Epoch: 31 Train_Loss: 0.03226439282298088 Test_Loss: 0.03188913315534592 Learning_Rate: 0.00036249016797892665\n",
      "Epoch: 33 Train_Loss: 0.02971063181757927 Test_Loss: 0.029905270785093307 Learning_Rate: 0.000355276613636146\n",
      "Epoch: 35 Train_Loss: 0.03198734298348427 Test_Loss: 0.031800270080566406 Learning_Rate: 0.00034820660902478665\n",
      "Epoch: 37 Train_Loss: 0.029838161543011665 Test_Loss: 0.030821774154901505 Learning_Rate: 0.0003412772975051934\n",
      "Epoch: 39 Train_Loss: 0.033248335123062134 Test_Loss: 0.03313826769590378 Learning_Rate: 0.00033448587928484007\n",
      "Epoch: 41 Train_Loss: 0.03165764734148979 Test_Loss: 0.03095240704715252 Learning_Rate: 0.0003278296102870717\n",
      "Epoch: 43 Train_Loss: 0.030505333095788956 Test_Loss: 0.031897082924842834 Learning_Rate: 0.00032130580104235894\n",
      "Epoch: 45 Train_Loss: 0.0321853831410408 Test_Loss: 0.03178830072283745 Learning_Rate: 0.000314911815601616\n",
      "Epoch: 47 Train_Loss: 0.03024093620479107 Test_Loss: 0.02991461008787155 Learning_Rate: 0.00030864507047114386\n",
      "Epoch: 49 Train_Loss: 0.029635677114129066 Test_Loss: 0.030129460617899895 Learning_Rate: 0.0003025030335687681\n",
      "Epoch: 51 Train_Loss: 0.030544353649020195 Test_Loss: 0.030184205621480942 Learning_Rate: 0.00029648322320074966\n",
      "Epoch: 53 Train_Loss: 0.029271837323904037 Test_Loss: 0.028872303664684296 Learning_Rate: 0.00029058320705905476\n",
      "Epoch: 55 Train_Loss: 0.02863408625125885 Test_Loss: 0.029024463146924973 Learning_Rate: 0.0002848006012385796\n",
      "Epoch: 57 Train_Loss: 0.02900025248527527 Test_Loss: 0.028859229758381844 Learning_Rate: 0.00027913306927393185\n",
      "Epoch: 59 Train_Loss: 0.02795921266078949 Test_Loss: 0.027924740687012672 Learning_Rate: 0.0002735783211953806\n",
      "Epoch: 61 Train_Loss: 0.028064651414752007 Test_Loss: 0.028322329744696617 Learning_Rate: 0.0002681341126035925\n",
      "Epoch: 63 Train_Loss: 0.027890847995877266 Test_Loss: 0.027635203674435616 Learning_Rate: 0.000262798243762781\n",
      "Epoch: 65 Train_Loss: 0.027446186169981956 Test_Loss: 0.027397729456424713 Learning_Rate: 0.0002575685587119017\n",
      "Epoch: 67 Train_Loss: 0.027670109644532204 Test_Loss: 0.0276398416608572 Learning_Rate: 0.0002524429443935348\n",
      "Epoch: 69 Train_Loss: 0.027248797938227654 Test_Loss: 0.02712542749941349 Learning_Rate: 0.0002474193298001035\n",
      "Epoch: 71 Train_Loss: 0.027362847700715065 Test_Loss: 0.027305927127599716 Learning_Rate: 0.0002424956851370814\n",
      "Epoch: 73 Train_Loss: 0.027077076956629753 Test_Loss: 0.026828695088624954 Learning_Rate: 0.00023767002100285347\n",
      "Epoch: 75 Train_Loss: 0.02703932113945484 Test_Loss: 0.027124445885419846 Learning_Rate: 0.0002329403875848967\n",
      "Epoch: 77 Train_Loss: 0.026818731799721718 Test_Loss: 0.026647109538316727 Learning_Rate: 0.00022830487387195725\n",
      "Epoch: 79 Train_Loss: 0.02660050056874752 Test_Loss: 0.0265265554189682 Learning_Rate: 0.0002237616068819053\n",
      "Epoch: 81 Train_Loss: 0.02678818441927433 Test_Loss: 0.026592770591378212 Learning_Rate: 0.00021930875090495538\n",
      "Epoch: 83 Train_Loss: 0.026532769203186035 Test_Loss: 0.02649967558681965 Learning_Rate: 0.00021494450676194676\n",
      "Epoch: 85 Train_Loss: 0.026556262746453285 Test_Loss: 0.02622574009001255 Learning_Rate: 0.00021066711107738402\n",
      "Epoch: 87 Train_Loss: 0.02645108662545681 Test_Loss: 0.026264527812600136 Learning_Rate: 0.00020647483556694406\n",
      "Epoch: 89 Train_Loss: 0.026420075446367264 Test_Loss: 0.026048343628644943 Learning_Rate: 0.00020236598633916185\n",
      "Epoch: 91 Train_Loss: 0.026410995051264763 Test_Loss: 0.02623092196881771 Learning_Rate: 0.00019833890321101252\n",
      "Epoch: 93 Train_Loss: 0.025900229811668396 Test_Loss: 0.02574845962226391 Learning_Rate: 0.00019439195903711337\n",
      "Epoch: 95 Train_Loss: 0.0258324034512043 Test_Loss: 0.025916611775755882 Learning_Rate: 0.00019052355905227483\n",
      "Epoch: 97 Train_Loss: 0.025832369923591614 Test_Loss: 0.02566498890519142 Learning_Rate: 0.00018673214022713456\n",
      "Epoch: 99 Train_Loss: 0.026029201224446297 Test_Loss: 0.025885574519634247 Learning_Rate: 0.00018301617063661458\n"
     ]
    }
   ],
   "source": [
    "optimizer = optim.Adam(model.parameters(), lr = 0.0005)\n",
    "scheduler = ExponentialLR(optimizer, gamma=0.99)\n",
    "criteria = nn.MSELoss()\n",
    "cuda0 = torch.device('cuda:0')\n",
    "\n",
    "for epoch in range(100):\n",
    "    optimizer.zero_grad()\n",
    "    for x_train, y_train in train_loader:\n",
    "        x_train = x_train.cuda()\n",
    "        outputs = model(x_train)\n",
    "        loss = criteria(outputs, x_train)\n",
    "        loss.backward()\n",
    "        optimizer.step()\n",
    "    scheduler.step()\n",
    "    if (epoch + 1) % 2 == 0:\n",
    "        for x_test, y_test in test_loader:\n",
    "            x_test = x_test.cuda()\n",
    "            outputs = model(x_test)\n",
    "            test_loss = criteria(outputs, x_test)\n",
    "        print(\"Epoch:\", epoch, \"Train_Loss:\", loss.item(), \"Test_Loss:\", test_loss.item(), \"Learning_Rate:\", scheduler.optimizer.param_groups[0]['lr'])"
   ]
  },
  {
   "cell_type": "code",
   "execution_count": 41,
   "metadata": {},
   "outputs": [
    {
     "data": {
      "text/plain": [
       "<matplotlib.image.AxesImage at 0x1e6a8965940>"
      ]
     },
     "execution_count": 41,
     "metadata": {},
     "output_type": "execute_result"
    },
    {
     "data": {
      "image/png": "[encoded data removed]",
      "text/plain": [
       "<Figure size 640x480 with 2 Axes>"
      ]
     },
     "metadata": {},
     "output_type": "display_data"
    }
   ],
   "source": [
    "fig, ax = plt.subplots(2)\n",
    "torch.no_grad()\n",
    "x_train, y_train = next(iter(train_loader))\n",
    "x_train = x_train.cuda()\n",
    "output = model(x_train).cpu().detach().numpy()\n",
    "ax[0].imshow(x_train.cpu()[0,0])\n",
    "ax[1].imshow(output[0,0])"
   ]
  }
 ],
 "metadata": {
  "kernelspec": {
   "display_name": "machine_learning",
   "language": "python",
   "name": "python3"
  },
  "language_info": {
   "codemirror_mode": {
    "name": "ipython",
    "version": 3
   },
   "file_extension": ".py",
   "mimetype": "text/x-python",
   "name": "python",
   "nbconvert_exporter": "python",
   "pygments_lexer": "ipython3",
   "version": "3.12.7"
  }
 },
 "nbformat": 4,
 "nbformat_minor": 2
}
