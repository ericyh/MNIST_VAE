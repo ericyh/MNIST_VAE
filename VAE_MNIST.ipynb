{
 "cells": [
  {
   "cell_type": "code",
   "execution_count": 171,
   "metadata": {},
   "outputs": [],
   "source": [
    "import torch\n",
    "import numpy as np\n",
    "import matplotlib.pyplot as plt\n",
    "import pandas as pd\n",
    "from torch import nn, optim\n",
    "from torch. optim.lr_scheduler import ExponentialLR\n",
    "from tqdm import tqdm\n"
   ]
  },
  {
   "cell_type": "code",
   "execution_count": null,
   "metadata": {},
   "outputs": [],
   "source": [
    "from torchvision import datasets, transforms\n",
    "\n",
    "train_dataset = datasets.MNIST(root='./mnist_data/', train=True, transform=transforms.ToTensor(), download=True)\n",
    "test_dataset = datasets.MNIST(root='./mnist_data/', train=False, transform=transforms.ToTensor(), download=False)\n",
    "\n",
    "batch_size = 4000\n",
    "train_loader = torch.utils.data.DataLoader(dataset=train_dataset, batch_size=batch_size, shuffle=True)\n",
    "test_loader = torch.utils.data.DataLoader(dataset=test_dataset, batch_size=batch_size, shuffle=False)"
   ]
  },
  {
   "cell_type": "code",
   "execution_count": 173,
   "metadata": {},
   "outputs": [
    {
     "name": "stdout",
     "output_type": "stream",
     "text": [
      "60000\n"
     ]
    }
   ],
   "source": [
    "print(len(train_dataset))"
   ]
  },
  {
   "cell_type": "code",
   "execution_count": 174,
   "metadata": {},
   "outputs": [],
   "source": [
    "class Net(nn.Module):\n",
    "    def __init__(self):\n",
    "        super().__init__()\n",
    "        self.latent_size = 16\n",
    "        self.encoder = nn.Sequential(\n",
    "            nn.Conv2d(1,2,(3,3), (2,2)),\n",
    "            nn.ReLU(),\n",
    "            nn.Flatten(),\n",
    "            nn.Linear(338, 250),\n",
    "            nn.ReLU(),\n",
    "        )\n",
    "        self.mu = nn.Sequential(\n",
    "            nn.Linear(250, self.latent_size)\n",
    "        )\n",
    "        self.log_var = nn.Sequential(\n",
    "            nn.Linear(250, self.latent_size),\n",
    "            nn.ReLU(),\n",
    "        )\n",
    "        self.decoder = nn.Sequential(\n",
    "            nn.Linear(self.latent_size, 784),\n",
    "            nn.Unflatten(1, torch.Size([4, 14, 14])),\n",
    "            nn.ReLU(),\n",
    "            nn.ConvTranspose2d(4, 1, (4,4),(2,2), padding = 1),\n",
    "            nn.Sigmoid()\n",
    "        )\n",
    "    def reparameterize(self, mu, log_var):\n",
    "        std = torch.exp(log_var)\n",
    "        eps = torch.randn_like(std)\n",
    "        return mu + eps * std\n",
    "    \n",
    "    def forward(self, x):\n",
    "        x = self.encoder(x)\n",
    "        mu = self.mu(x)\n",
    "        log_var = self.log_var(x)\n",
    "        x = self.reparameterize(mu, log_var)\n",
    "        x = self.decoder(x)\n",
    "        return x, mu, log_var"
   ]
  },
  {
   "cell_type": "code",
   "execution_count": 175,
   "metadata": {},
   "outputs": [
    {
     "data": {
      "text/plain": [
       "Net(\n",
       "  (encoder): Sequential(\n",
       "    (0): Conv2d(1, 2, kernel_size=(3, 3), stride=(2, 2))\n",
       "    (1): ReLU()\n",
       "    (2): Flatten(start_dim=1, end_dim=-1)\n",
       "    (3): Linear(in_features=338, out_features=250, bias=True)\n",
       "    (4): ReLU()\n",
       "  )\n",
       "  (mu): Sequential(\n",
       "    (0): Linear(in_features=250, out_features=16, bias=True)\n",
       "  )\n",
       "  (log_var): Sequential(\n",
       "    (0): Linear(in_features=250, out_features=16, bias=True)\n",
       "    (1): ReLU()\n",
       "  )\n",
       "  (decoder): Sequential(\n",
       "    (0): Linear(in_features=16, out_features=784, bias=True)\n",
       "    (1): Unflatten(dim=1, unflattened_size=torch.Size([4, 14, 14]))\n",
       "    (2): ReLU()\n",
       "    (3): ConvTranspose2d(4, 1, kernel_size=(4, 4), stride=(2, 2), padding=(1, 1))\n",
       "    (4): Sigmoid()\n",
       "  )\n",
       ")"
      ]
     },
     "execution_count": 175,
     "metadata": {},
     "output_type": "execute_result"
    }
   ],
   "source": [
    "model = Net()\n",
    "model.to(\"cuda\")"
   ]
  },
  {
   "cell_type": "code",
   "execution_count": 176,
   "metadata": {},
   "outputs": [],
   "source": [
    "def loss_f(output, target, mu, log_var):\n",
    "    BCE = nn.BCELoss(reduction='sum')(output, target)\n",
    "    KLD = 0.5 * torch.sum(mu**2 + torch.exp(log_var) -1 - log_var)\n",
    "    return BCE + KLD "
   ]
  },
  {
   "cell_type": "code",
   "execution_count": 180,
   "metadata": {},
   "outputs": [
    {
     "name": "stderr",
     "output_type": "stream",
     "text": [
      "  2%|▎         | 10/400 [00:19<13:16,  2.04s/it]"
     ]
    },
    {
     "name": "stdout",
     "output_type": "stream",
     "text": [
      "Epoch: 10 Train_Loss: 653070.625 Test_Loss: 333348.5 Learning_Rate: 0.00047555506523288594\n"
     ]
    },
    {
     "name": "stderr",
     "output_type": "stream",
     "text": [
      "  5%|▌         | 20/400 [00:42<17:18,  2.73s/it]"
     ]
    },
    {
     "name": "stdout",
     "output_type": "stream",
     "text": [
      "Epoch: 20 Train_Loss: 645020.875 Test_Loss: 329804.71875 Learning_Rate: 0.00045230524013730876\n"
     ]
    },
    {
     "name": "stderr",
     "output_type": "stream",
     "text": [
      "  8%|▊         | 30/400 [01:04<13:04,  2.12s/it]"
     ]
    },
    {
     "name": "stdout",
     "output_type": "stream",
     "text": [
      "Epoch: 30 Train_Loss: 636480.8125 Test_Loss: 327796.21875 Learning_Rate: 0.00043019209595734806\n"
     ]
    },
    {
     "name": "stderr",
     "output_type": "stream",
     "text": [
      " 10%|█         | 40/400 [01:24<12:22,  2.06s/it]"
     ]
    },
    {
     "name": "stdout",
     "output_type": "stream",
     "text": [
      "Epoch: 40 Train_Loss: 634380.5 Test_Loss: 324478.9375 Learning_Rate: 0.00040916006051133714\n"
     ]
    },
    {
     "name": "stderr",
     "output_type": "stream",
     "text": [
      " 12%|█▎        | 50/400 [01:44<12:12,  2.09s/it]"
     ]
    },
    {
     "name": "stdout",
     "output_type": "stream",
     "text": [
      "Epoch: 50 Train_Loss: 628239.1875 Test_Loss: 321523.6875 Learning_Rate: 0.00038915627853432097\n"
     ]
    },
    {
     "name": "stderr",
     "output_type": "stream",
     "text": [
      " 15%|█▌        | 60/400 [02:04<11:38,  2.05s/it]"
     ]
    },
    {
     "name": "stdout",
     "output_type": "stream",
     "text": [
      "Epoch: 60 Train_Loss: 627827.9375 Test_Loss: 320516.34375 Learning_Rate: 0.0003701304788483523\n"
     ]
    },
    {
     "name": "stderr",
     "output_type": "stream",
     "text": [
      " 18%|█▊        | 70/400 [02:26<13:00,  2.36s/it]"
     ]
    },
    {
     "name": "stdout",
     "output_type": "stream",
     "text": [
      "Epoch: 70 Train_Loss: 618389.125 Test_Loss: 316470.40625 Learning_Rate: 0.0003520348480268149\n"
     ]
    },
    {
     "name": "stderr",
     "output_type": "stream",
     "text": [
      " 20%|██        | 80/400 [02:51<14:01,  2.63s/it]"
     ]
    },
    {
     "name": "stdout",
     "output_type": "stream",
     "text": [
      "Epoch: 80 Train_Loss: 621071.5 Test_Loss: 316024.03125 Learning_Rate: 0.00033482391023528216\n"
     ]
    },
    {
     "name": "stderr",
     "output_type": "stream",
     "text": [
      " 22%|██▎       | 90/400 [03:17<13:53,  2.69s/it]"
     ]
    },
    {
     "name": "stdout",
     "output_type": "stream",
     "text": [
      "Epoch: 90 Train_Loss: 615000.125 Test_Loss: 313500.84375 Learning_Rate: 0.00031845441294693904\n"
     ]
    },
    {
     "name": "stderr",
     "output_type": "stream",
     "text": [
      " 25%|██▌       | 100/400 [03:39<10:34,  2.11s/it]"
     ]
    },
    {
     "name": "stdout",
     "output_type": "stream",
     "text": [
      "Epoch: 100 Train_Loss: 610412.625 Test_Loss: 311156.4375 Learning_Rate: 0.0003028852182453639\n"
     ]
    },
    {
     "name": "stderr",
     "output_type": "stream",
     "text": [
      " 28%|██▊       | 110/400 [03:58<09:53,  2.05s/it]"
     ]
    },
    {
     "name": "stdout",
     "output_type": "stream",
     "text": [
      "Epoch: 110 Train_Loss: 607326.6875 Test_Loss: 309659.59375 Learning_Rate: 0.00028807719944150197\n"
     ]
    },
    {
     "name": "stderr",
     "output_type": "stream",
     "text": [
      " 30%|███       | 120/400 [04:18<09:24,  2.02s/it]"
     ]
    },
    {
     "name": "stdout",
     "output_type": "stream",
     "text": [
      "Epoch: 120 Train_Loss: 601336.9375 Test_Loss: 308227.5 Learning_Rate: 0.00027399314274502103\n"
     ]
    },
    {
     "name": "stderr",
     "output_type": "stream",
     "text": [
      " 32%|███▎      | 130/400 [04:38<09:06,  2.02s/it]"
     ]
    },
    {
     "name": "stdout",
     "output_type": "stream",
     "text": [
      "Epoch: 130 Train_Loss: 602516.375 Test_Loss: 308122.28125 Learning_Rate: 0.00026059765374294373\n"
     ]
    },
    {
     "name": "stderr",
     "output_type": "stream",
     "text": [
      " 35%|███▌      | 140/400 [04:57<08:39,  2.00s/it]"
     ]
    },
    {
     "name": "stdout",
     "output_type": "stream",
     "text": [
      "Epoch: 140 Train_Loss: 600492.0 Test_Loss: 305586.09375 Learning_Rate: 0.0002478570684505253\n"
     ]
    },
    {
     "name": "stderr",
     "output_type": "stream",
     "text": [
      " 38%|███▊      | 150/400 [05:17<08:30,  2.04s/it]"
     ]
    },
    {
     "name": "stdout",
     "output_type": "stream",
     "text": [
      "Epoch: 150 Train_Loss: 603382.875 Test_Loss: 304754.0625 Learning_Rate: 0.00023573936871084284\n"
     ]
    },
    {
     "name": "stderr",
     "output_type": "stream",
     "text": [
      " 40%|████      | 160/400 [05:36<08:08,  2.04s/it]"
     ]
    },
    {
     "name": "stdout",
     "output_type": "stream",
     "text": [
      "Epoch: 160 Train_Loss: 599281.125 Test_Loss: 304922.15625 Learning_Rate: 0.0002242141017304884\n"
     ]
    },
    {
     "name": "stderr",
     "output_type": "stream",
     "text": [
      " 42%|████▎     | 170/400 [05:56<07:52,  2.05s/it]"
     ]
    },
    {
     "name": "stdout",
     "output_type": "stream",
     "text": [
      "Epoch: 170 Train_Loss: 596073.625 Test_Loss: 303367.625 Learning_Rate: 0.00021325230354915067\n"
     ]
    },
    {
     "name": "stderr",
     "output_type": "stream",
     "text": [
      " 45%|████▌     | 180/400 [06:16<07:32,  2.06s/it]"
     ]
    },
    {
     "name": "stdout",
     "output_type": "stream",
     "text": [
      "Epoch: 180 Train_Loss: 590811.75 Test_Loss: 301916.6875 Learning_Rate: 0.0002028264262507591\n"
     ]
    },
    {
     "name": "stderr",
     "output_type": "stream",
     "text": [
      " 48%|████▊     | 190/400 [06:36<07:10,  2.05s/it]"
     ]
    },
    {
     "name": "stdout",
     "output_type": "stream",
     "text": [
      "Epoch: 190 Train_Loss: 588766.625 Test_Loss: 301451.21875 Learning_Rate: 0.00019291026873326572\n"
     ]
    },
    {
     "name": "stderr",
     "output_type": "stream",
     "text": [
      " 50%|█████     | 200/400 [06:55<06:48,  2.04s/it]"
     ]
    },
    {
     "name": "stdout",
     "output_type": "stream",
     "text": [
      "Epoch: 200 Train_Loss: 589602.9375 Test_Loss: 298968.90625 Learning_Rate: 0.0001834789108630835\n"
     ]
    },
    {
     "name": "stderr",
     "output_type": "stream",
     "text": [
      " 52%|█████▎    | 210/400 [07:15<06:41,  2.11s/it]"
     ]
    },
    {
     "name": "stdout",
     "output_type": "stream",
     "text": [
      "Epoch: 210 Train_Loss: 586129.375 Test_Loss: 300745.875 Learning_Rate: 0.00017450865084870507\n"
     ]
    },
    {
     "name": "stderr",
     "output_type": "stream",
     "text": [
      " 55%|█████▌    | 220/400 [07:37<06:32,  2.18s/it]"
     ]
    },
    {
     "name": "stdout",
     "output_type": "stream",
     "text": [
      "Epoch: 220 Train_Loss: 585924.875 Test_Loss: 298955.375 Learning_Rate: 0.0001659769456761177\n"
     ]
    },
    {
     "name": "stderr",
     "output_type": "stream",
     "text": [
      " 57%|█████▊    | 230/400 [07:58<06:13,  2.20s/it]"
     ]
    },
    {
     "name": "stdout",
     "output_type": "stream",
     "text": [
      "Epoch: 230 Train_Loss: 587888.375 Test_Loss: 298685.9375 Learning_Rate: 0.00015786235445632262\n"
     ]
    },
    {
     "name": "stderr",
     "output_type": "stream",
     "text": [
      " 60%|██████    | 240/400 [08:18<05:28,  2.05s/it]"
     ]
    },
    {
     "name": "stdout",
     "output_type": "stream",
     "text": [
      "Epoch: 240 Train_Loss: 583892.6875 Test_Loss: 297999.8125 Learning_Rate: 0.0001501444845425869\n"
     ]
    },
    {
     "name": "stderr",
     "output_type": "stream",
     "text": [
      " 62%|██████▎   | 250/400 [08:38<05:07,  2.05s/it]"
     ]
    },
    {
     "name": "stdout",
     "output_type": "stream",
     "text": [
      "Epoch: 250 Train_Loss: 588406.4375 Test_Loss: 296768.0 Learning_Rate: 0.0001428039402820159\n"
     ]
    },
    {
     "name": "stderr",
     "output_type": "stream",
     "text": [
      " 65%|██████▌   | 260/400 [08:58<04:47,  2.05s/it]"
     ]
    },
    {
     "name": "stdout",
     "output_type": "stream",
     "text": [
      "Epoch: 260 Train_Loss: 584387.3125 Test_Loss: 297320.28125 Learning_Rate: 0.0001358222742726544\n"
     ]
    },
    {
     "name": "stderr",
     "output_type": "stream",
     "text": [
      " 68%|██████▊   | 270/400 [09:18<04:27,  2.06s/it]"
     ]
    },
    {
     "name": "stdout",
     "output_type": "stream",
     "text": [
      "Epoch: 270 Train_Loss: 583795.6875 Test_Loss: 296594.4375 Learning_Rate: 0.0001291819410036222\n"
     ]
    },
    {
     "name": "stderr",
     "output_type": "stream",
     "text": [
      " 70%|███████   | 280/400 [09:38<04:08,  2.07s/it]"
     ]
    },
    {
     "name": "stdout",
     "output_type": "stream",
     "text": [
      "Epoch: 280 Train_Loss: 585016.375 Test_Loss: 296694.875 Learning_Rate: 0.00012286625276177672\n"
     ]
    },
    {
     "name": "stderr",
     "output_type": "stream",
     "text": [
      " 72%|███████▎  | 290/400 [09:57<03:43,  2.03s/it]"
     ]
    },
    {
     "name": "stdout",
     "output_type": "stream",
     "text": [
      "Epoch: 290 Train_Loss: 581399.75 Test_Loss: 296819.78125 Learning_Rate: 0.00011685933769409395\n"
     ]
    },
    {
     "name": "stderr",
     "output_type": "stream",
     "text": [
      " 75%|███████▌  | 300/400 [10:17<03:25,  2.05s/it]"
     ]
    },
    {
     "name": "stdout",
     "output_type": "stream",
     "text": [
      "Epoch: 300 Train_Loss: 578740.25 Test_Loss: 296402.84375 Learning_Rate: 0.00011114609992037339\n"
     ]
    },
    {
     "name": "stderr",
     "output_type": "stream",
     "text": [
      " 78%|███████▊  | 310/400 [10:37<03:02,  2.03s/it]"
     ]
    },
    {
     "name": "stdout",
     "output_type": "stream",
     "text": [
      "Epoch: 310 Train_Loss: 578528.5 Test_Loss: 294793.5625 Learning_Rate: 0.00010571218159602804\n"
     ]
    },
    {
     "name": "stderr",
     "output_type": "stream",
     "text": [
      " 80%|████████  | 320/400 [10:56<02:40,  2.01s/it]"
     ]
    },
    {
     "name": "stdout",
     "output_type": "stream",
     "text": [
      "Epoch: 320 Train_Loss: 579040.8125 Test_Loss: 295770.25 Learning_Rate: 0.0001005439268296196\n"
     ]
    },
    {
     "name": "stderr",
     "output_type": "stream",
     "text": [
      " 82%|████████▎ | 330/400 [11:15<02:23,  2.04s/it]"
     ]
    },
    {
     "name": "stdout",
     "output_type": "stream",
     "text": [
      "Epoch: 330 Train_Loss: 583197.6875 Test_Loss: 295185.375 Learning_Rate: 9.562834736446053e-05\n"
     ]
    },
    {
     "name": "stderr",
     "output_type": "stream",
     "text": [
      " 85%|████████▌ | 340/400 [11:36<02:09,  2.16s/it]"
     ]
    },
    {
     "name": "stdout",
     "output_type": "stream",
     "text": [
      "Epoch: 340 Train_Loss: 577384.5625 Test_Loss: 295956.75 Learning_Rate: 9.09530899380382e-05\n"
     ]
    },
    {
     "name": "stderr",
     "output_type": "stream",
     "text": [
      " 88%|████████▊ | 350/400 [11:57<01:48,  2.17s/it]"
     ]
    },
    {
     "name": "stdout",
     "output_type": "stream",
     "text": [
      "Epoch: 350 Train_Loss: 574584.9375 Test_Loss: 293064.6875 Learning_Rate: 8.650640523723257e-05\n"
     ]
    },
    {
     "name": "stderr",
     "output_type": "stream",
     "text": [
      " 90%|█████████ | 360/400 [12:18<01:27,  2.19s/it]"
     ]
    },
    {
     "name": "stdout",
     "output_type": "stream",
     "text": [
      "Epoch: 360 Train_Loss: 577829.0 Test_Loss: 294777.1875 Learning_Rate: 8.227711837130919e-05\n"
     ]
    },
    {
     "name": "stderr",
     "output_type": "stream",
     "text": [
      " 92%|█████████▎| 370/400 [12:40<01:05,  2.20s/it]"
     ]
    },
    {
     "name": "stdout",
     "output_type": "stream",
     "text": [
      "Epoch: 370 Train_Loss: 574973.875 Test_Loss: 295297.09375 Learning_Rate: 7.825460078848366e-05\n"
     ]
    },
    {
     "name": "stderr",
     "output_type": "stream",
     "text": [
      " 95%|█████████▌| 380/400 [13:00<00:42,  2.13s/it]"
     ]
    },
    {
     "name": "stdout",
     "output_type": "stream",
     "text": [
      "Epoch: 380 Train_Loss: 577539.1875 Test_Loss: 293963.9375 Learning_Rate: 7.442874356548158e-05\n"
     ]
    },
    {
     "name": "stderr",
     "output_type": "stream",
     "text": [
      " 98%|█████████▊| 390/400 [13:21<00:21,  2.18s/it]"
     ]
    },
    {
     "name": "stdout",
     "output_type": "stream",
     "text": [
      "Epoch: 390 Train_Loss: 581608.8125 Test_Loss: 294187.25 Learning_Rate: 7.078993200296866e-05\n"
     ]
    },
    {
     "name": "stderr",
     "output_type": "stream",
     "text": [
      "100%|██████████| 400/400 [13:48<00:00,  2.07s/it]"
     ]
    },
    {
     "name": "stdout",
     "output_type": "stream",
     "text": [
      "Epoch: 400 Train_Loss: 577757.625 Test_Loss: 293315.375 Learning_Rate: 6.732902146300664e-05\n"
     ]
    },
    {
     "name": "stderr",
     "output_type": "stream",
     "text": [
      "\n"
     ]
    }
   ],
   "source": [
    "optimizer = optim.Adam(model.parameters(), lr = 0.0005)\n",
    "scheduler = ExponentialLR(optimizer, gamma=0.995)\n",
    "cuda0 = torch.device('cuda:0')\n",
    "\n",
    "train_loss_list = []\n",
    "test_loss_list = []\n",
    "\n",
    "for epoch in tqdm(range(1000)):\n",
    "    optimizer.zero_grad()\n",
    "    for x_train, y_train in train_loader:\n",
    "        x_train = x_train.cuda()\n",
    "        outputs, mu, log_var = model(x_train)\n",
    "        loss = loss_f(outputs, x_train, mu, log_var)\n",
    "        loss.backward()\n",
    "        optimizer.step()\n",
    "    scheduler.step()\n",
    "    if (epoch + 1) % 10 == 0:\n",
    "        for x_test, y_test in test_loader:\n",
    "            x_test = x_test.cuda()\n",
    "            outputs, mu, log_var = model(x_test)\n",
    "            test_loss = loss_f(outputs, x_test, mu, log_var)\n",
    "        print(\"Epoch:\", epoch + 1, \"Train_Loss:\", loss.item(), \"Test_Loss:\", test_loss.item(), \"Learning_Rate:\", scheduler.optimizer.param_groups[0]['lr'])\n",
    "        train_loss_list.append(loss.item())\n",
    "        test_loss_list.append(test_loss.item())"
   ]
  },
  {
   "cell_type": "code",
   "execution_count": 181,
   "metadata": {},
   "outputs": [
    {
     "data": {
      "text/plain": [
       "[<matplotlib.lines.Line2D at 0x1ef2c9c0f20>]"
      ]
     },
     "execution_count": 181,
     "metadata": {},
     "output_type": "execute_result"
    },
    {
     "data": {
      "image/png": "[encoded data removed]",
      "text/plain": [
       "<Figure size 640x480 with 2 Axes>"
      ]
     },
     "metadata": {},
     "output_type": "display_data"
    }
   ],
   "source": [
    "fig, ax = plt.subplots(2)\n",
    "ax[0].plot(train_loss_list)\n",
    "ax[1].plot(test_loss_list)"
   ]
  },
  {
   "cell_type": "code",
   "execution_count": 191,
   "metadata": {},
   "outputs": [
    {
     "data": {
      "text/plain": [
       "<matplotlib.image.AxesImage at 0x1ef2ccceb10>"
      ]
     },
     "execution_count": 191,
     "metadata": {},
     "output_type": "execute_result"
    },
    {
     "data": {
      "image/png": "[encoded data removed]",
      "text/plain": [
       "<Figure size 640x480 with 2 Axes>"
      ]
     },
     "metadata": {},
     "output_type": "display_data"
    }
   ],
   "source": [
    "fig, ax = plt.subplots(2)\n",
    "torch.no_grad()\n",
    "x_train, y_train = next(iter(train_loader))\n",
    "x_train = x_train.cuda()\n",
    "outputs, mu, log_var = model(x_train)\n",
    "outputs = outputs.cpu().detach().numpy()\n",
    "ax[0].imshow(x_train.cpu()[0,0])\n",
    "ax[1].imshow(outputs[0,0])"
   ]
  },
  {
   "cell_type": "code",
   "execution_count": 192,
   "metadata": {},
   "outputs": [],
   "source": [
    "import pickle\n",
    "with open('checkpoint2.pickle', 'wb') as handle:\n",
    "    pickle.dump(model, handle, protocol=pickle.HIGHEST_PROTOCOL)"
   ]
  },
  {
   "cell_type": "code",
   "execution_count": null,
   "metadata": {},
   "outputs": [],
   "source": []
  }
 ],
 "metadata": {
  "kernelspec": {
   "display_name": "machine_learning",
   "language": "python",
   "name": "python3"
  },
  "language_info": {
   "codemirror_mode": {
    "name": "ipython",
    "version": 3
   },
   "file_extension": ".py",
   "mimetype": "text/x-python",
   "name": "python",
   "nbconvert_exporter": "python",
   "pygments_lexer": "ipython3",
   "version": "3.12.7"
  }
 },
 "nbformat": 4,
 "nbformat_minor": 2
}
