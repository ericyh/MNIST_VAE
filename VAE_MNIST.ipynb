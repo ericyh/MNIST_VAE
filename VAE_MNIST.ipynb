{
 "cells": [
  {
   "cell_type": "code",
   "execution_count": 131,
   "metadata": {},
   "outputs": [],
   "source": [
    "import torch\n",
    "import numpy as np\n",
    "import matplotlib.pyplot as plt\n",
    "import pandas as pd\n",
    "from torch import nn, optim\n",
    "from torch. optim.lr_scheduler import ExponentialLR\n",
    "from tqdm import tqdm\n"
   ]
  },
  {
   "cell_type": "code",
   "execution_count": 132,
   "metadata": {},
   "outputs": [],
   "source": [
    "from torchvision import datasets, transforms\n",
    "\n",
    "train_dataset = datasets.MNIST(root='./mnist_data/', train=True, transform=transforms.ToTensor(), download=True)\n",
    "test_dataset = datasets.MNIST(root='./mnist_data/', train=False, transform=transforms.ToTensor(), download=False)\n",
    "\n",
    "batch_size = 10000\n",
    "train_loader = torch.utils.data.DataLoader(dataset=train_dataset, batch_size=batch_size, shuffle=True)\n",
    "test_loader = torch.utils.data.DataLoader(dataset=test_dataset, batch_size=batch_size, shuffle=False)"
   ]
  },
  {
   "cell_type": "code",
   "execution_count": 133,
   "metadata": {},
   "outputs": [
    {
     "name": "stdout",
     "output_type": "stream",
     "text": [
      "60000\n"
     ]
    }
   ],
   "source": [
    "print(len(train_dataset))"
   ]
  },
  {
   "cell_type": "code",
   "execution_count": 134,
   "metadata": {},
   "outputs": [],
   "source": [
    "class Net(nn.Module):\n",
    "    def __init__(self):\n",
    "        super().__init__()\n",
    "        self.latent_size = 8\n",
    "        self.encoder = nn.Sequential(\n",
    "            nn.Conv2d(1,2,(3,3), (2,2)),\n",
    "            nn.ReLU(),\n",
    "            nn.Flatten(),\n",
    "            nn.Linear(338, 250),\n",
    "            nn.ReLU(),\n",
    "        )\n",
    "        self.mu = nn.Sequential(\n",
    "            nn.Linear(250, self.latent_size)\n",
    "        )\n",
    "        self.log_var = nn.Sequential(\n",
    "            nn.Linear(250, self.latent_size),\n",
    "            nn.ReLU(),\n",
    "        )\n",
    "        self.decoder = nn.Sequential(\n",
    "            nn.Linear(self.latent_size, 784),\n",
    "            nn.Unflatten(1, torch.Size([4, 14, 14])),\n",
    "            nn.ReLU(),\n",
    "            nn.ConvTranspose2d(4, 1, (4,4),(2,2), padding = 1),\n",
    "            nn.Sigmoid()\n",
    "        )\n",
    "    def reparameterize(self, mu, log_var):\n",
    "        std = torch.exp(log_var)\n",
    "        eps = torch.randn_like(std)\n",
    "        return mu + eps * std\n",
    "    \n",
    "    def forward(self, x):\n",
    "        x = self.encoder(x)\n",
    "        mu = self.mu(x)\n",
    "        log_var = self.log_var(x)\n",
    "        x = self.reparameterize(mu, log_var)\n",
    "        x = self.decoder(x)\n",
    "        return x, mu, log_var"
   ]
  },
  {
   "cell_type": "code",
   "execution_count": 135,
   "metadata": {},
   "outputs": [
    {
     "data": {
      "text/plain": [
       "Net(\n",
       "  (encoder): Sequential(\n",
       "    (0): Conv2d(1, 2, kernel_size=(3, 3), stride=(2, 2))\n",
       "    (1): ReLU()\n",
       "    (2): Flatten(start_dim=1, end_dim=-1)\n",
       "    (3): Linear(in_features=338, out_features=250, bias=True)\n",
       "    (4): ReLU()\n",
       "  )\n",
       "  (mu): Sequential(\n",
       "    (0): Linear(in_features=250, out_features=8, bias=True)\n",
       "  )\n",
       "  (log_var): Sequential(\n",
       "    (0): Linear(in_features=250, out_features=8, bias=True)\n",
       "    (1): ReLU()\n",
       "  )\n",
       "  (decoder): Sequential(\n",
       "    (0): Linear(in_features=8, out_features=784, bias=True)\n",
       "    (1): Unflatten(dim=1, unflattened_size=torch.Size([4, 14, 14]))\n",
       "    (2): ReLU()\n",
       "    (3): ConvTranspose2d(4, 1, kernel_size=(4, 4), stride=(2, 2), padding=(1, 1))\n",
       "    (4): Sigmoid()\n",
       "  )\n",
       ")"
      ]
     },
     "execution_count": 135,
     "metadata": {},
     "output_type": "execute_result"
    }
   ],
   "source": [
    "model = Net()\n",
    "model.to(\"cuda\")"
   ]
  },
  {
   "cell_type": "code",
   "execution_count": 136,
   "metadata": {},
   "outputs": [],
   "source": [
    "def loss_f(output, target, mu, log_var):\n",
    "    BCE = nn.BCELoss(reduction='sum')(output, target)\n",
    "    KLD = 0.5 * torch.sum(mu**2 + torch.exp(log_var) -1 - log_var)\n",
    "    return BCE + KLD "
   ]
  },
  {
   "cell_type": "code",
   "execution_count": 137,
   "metadata": {},
   "outputs": [
    {
     "name": "stderr",
     "output_type": "stream",
     "text": [
      "  2%|▎         | 10/400 [00:19<13:23,  2.06s/it]"
     ]
    },
    {
     "name": "stdout",
     "output_type": "stream",
     "text": [
      "Epoch: 10 Train_Loss: 4873734.5 Test_Loss: 4873722.0 Learning_Rate: 0.00019800897604194966\n"
     ]
    },
    {
     "name": "stderr",
     "output_type": "stream",
     "text": [
      "  5%|▌         | 20/400 [00:40<13:47,  2.18s/it]"
     ]
    },
    {
     "name": "stdout",
     "output_type": "stream",
     "text": [
      "Epoch: 20 Train_Loss: 4664824.5 Test_Loss: 4664063.0 Learning_Rate: 0.00019603777296590692\n"
     ]
    },
    {
     "name": "stderr",
     "output_type": "stream",
     "text": [
      "  8%|▊         | 30/400 [01:01<13:30,  2.19s/it]"
     ]
    },
    {
     "name": "stdout",
     "output_type": "stream",
     "text": [
      "Epoch: 30 Train_Loss: 4297172.0 Test_Loss: 4304675.0 Learning_Rate: 0.00019408619345261712\n"
     ]
    },
    {
     "name": "stderr",
     "output_type": "stream",
     "text": [
      " 10%|█         | 40/400 [01:22<13:14,  2.21s/it]"
     ]
    },
    {
     "name": "stdout",
     "output_type": "stream",
     "text": [
      "Epoch: 40 Train_Loss: 3896719.0 Test_Loss: 3902267.25 Learning_Rate: 0.00019215404214716232\n"
     ]
    },
    {
     "name": "stderr",
     "output_type": "stream",
     "text": [
      " 12%|█▎        | 50/400 [01:43<12:46,  2.19s/it]"
     ]
    },
    {
     "name": "stdout",
     "output_type": "stream",
     "text": [
      "Epoch: 50 Train_Loss: 3544285.25 Test_Loss: 3543700.0 Learning_Rate: 0.00019024112563940622\n"
     ]
    },
    {
     "name": "stderr",
     "output_type": "stream",
     "text": [
      " 15%|█▌        | 60/400 [02:05<12:27,  2.20s/it]"
     ]
    },
    {
     "name": "stdout",
     "output_type": "stream",
     "text": [
      "Epoch: 60 Train_Loss: 3272732.0 Test_Loss: 3278623.5 Learning_Rate: 0.0001883472524446336\n"
     ]
    },
    {
     "name": "stderr",
     "output_type": "stream",
     "text": [
      " 18%|█▊        | 70/400 [02:26<11:57,  2.17s/it]"
     ]
    },
    {
     "name": "stdout",
     "output_type": "stream",
     "text": [
      "Epoch: 70 Train_Loss: 3078580.5 Test_Loss: 3079351.5 Learning_Rate: 0.00018647223298438246\n"
     ]
    },
    {
     "name": "stderr",
     "output_type": "stream",
     "text": [
      " 20%|██        | 80/400 [02:47<11:36,  2.18s/it]"
     ]
    },
    {
     "name": "stdout",
     "output_type": "stream",
     "text": [
      "Epoch: 80 Train_Loss: 2928082.0 Test_Loss: 2935131.75 Learning_Rate: 0.00018461587956746718\n"
     ]
    },
    {
     "name": "stderr",
     "output_type": "stream",
     "text": [
      " 22%|██▎       | 90/400 [03:08<11:14,  2.18s/it]"
     ]
    },
    {
     "name": "stdout",
     "output_type": "stream",
     "text": [
      "Epoch: 90 Train_Loss: 2818022.25 Test_Loss: 2820097.75 Learning_Rate: 0.00018277800637119036\n"
     ]
    },
    {
     "name": "stderr",
     "output_type": "stream",
     "text": [
      " 25%|██▌       | 100/400 [03:29<10:51,  2.17s/it]"
     ]
    },
    {
     "name": "stdout",
     "output_type": "stream",
     "text": [
      "Epoch: 100 Train_Loss: 2722149.0 Test_Loss: 2727209.25 Learning_Rate: 0.00018095842942274178\n"
     ]
    },
    {
     "name": "stderr",
     "output_type": "stream",
     "text": [
      " 28%|██▊       | 110/400 [03:50<10:34,  2.19s/it]"
     ]
    },
    {
     "name": "stdout",
     "output_type": "stream",
     "text": [
      "Epoch: 110 Train_Loss: 2639677.0 Test_Loss: 2655263.75 Learning_Rate: 0.00017915696658078257\n"
     ]
    },
    {
     "name": "stderr",
     "output_type": "stream",
     "text": [
      " 30%|███       | 120/400 [04:11<10:08,  2.17s/it]"
     ]
    },
    {
     "name": "stdout",
     "output_type": "stream",
     "text": [
      "Epoch: 120 Train_Loss: 2587040.25 Test_Loss: 2593032.0 Learning_Rate: 0.0001773734375172127\n"
     ]
    },
    {
     "name": "stderr",
     "output_type": "stream",
     "text": [
      " 32%|███▎      | 130/400 [04:32<09:53,  2.20s/it]"
     ]
    },
    {
     "name": "stdout",
     "output_type": "stream",
     "text": [
      "Epoch: 130 Train_Loss: 2534263.5 Test_Loss: 2538184.5 Learning_Rate: 0.00017560766369912012\n"
     ]
    },
    {
     "name": "stderr",
     "output_type": "stream",
     "text": [
      " 35%|███▌      | 140/400 [04:53<09:27,  2.18s/it]"
     ]
    },
    {
     "name": "stdout",
     "output_type": "stream",
     "text": [
      "Epoch: 140 Train_Loss: 2481897.5 Test_Loss: 2485236.75 Learning_Rate: 0.00017385946837090917\n"
     ]
    },
    {
     "name": "stderr",
     "output_type": "stream",
     "text": [
      " 38%|███▊      | 150/400 [05:14<09:00,  2.16s/it]"
     ]
    },
    {
     "name": "stdout",
     "output_type": "stream",
     "text": [
      "Epoch: 150 Train_Loss: 2441534.5 Test_Loss: 2441285.0 Learning_Rate: 0.00017212867653660724\n"
     ]
    },
    {
     "name": "stderr",
     "output_type": "stream",
     "text": [
      " 40%|████      | 160/400 [05:34<08:18,  2.08s/it]"
     ]
    },
    {
     "name": "stdout",
     "output_type": "stream",
     "text": [
      "Epoch: 160 Train_Loss: 2392224.0 Test_Loss: 2397064.75 Learning_Rate: 0.00017041511494234786\n"
     ]
    },
    {
     "name": "stderr",
     "output_type": "stream",
     "text": [
      " 42%|████▎     | 170/400 [05:54<07:50,  2.04s/it]"
     ]
    },
    {
     "name": "stdout",
     "output_type": "stream",
     "text": [
      "Epoch: 170 Train_Loss: 2350480.75 Test_Loss: 2356585.0 Learning_Rate: 0.00016871861205902726\n"
     ]
    },
    {
     "name": "stderr",
     "output_type": "stream",
     "text": [
      " 45%|████▌     | 180/400 [06:14<07:29,  2.04s/it]"
     ]
    },
    {
     "name": "stdout",
     "output_type": "stream",
     "text": [
      "Epoch: 180 Train_Loss: 2313689.75 Test_Loss: 2321393.0 Learning_Rate: 0.00016703899806513463\n"
     ]
    },
    {
     "name": "stderr",
     "output_type": "stream",
     "text": [
      " 48%|████▊     | 190/400 [06:34<07:08,  2.04s/it]"
     ]
    },
    {
     "name": "stdout",
     "output_type": "stream",
     "text": [
      "Epoch: 190 Train_Loss: 2291687.0 Test_Loss: 2291414.5 Learning_Rate: 0.00016537610482975255\n"
     ]
    },
    {
     "name": "stderr",
     "output_type": "stream",
     "text": [
      " 50%|█████     | 200/400 [06:53<06:53,  2.07s/it]"
     ]
    },
    {
     "name": "stdout",
     "output_type": "stream",
     "text": [
      "Epoch: 200 Train_Loss: 2247180.0 Test_Loss: 2252819.0 Learning_Rate: 0.00016372976589572715\n"
     ]
    },
    {
     "name": "stderr",
     "output_type": "stream",
     "text": [
      " 52%|█████▎    | 210/400 [07:13<06:32,  2.06s/it]"
     ]
    },
    {
     "name": "stdout",
     "output_type": "stream",
     "text": [
      "Epoch: 210 Train_Loss: 2225643.25 Test_Loss: 2219684.75 Learning_Rate: 0.0001620998164630053\n"
     ]
    },
    {
     "name": "stderr",
     "output_type": "stream",
     "text": [
      " 55%|█████▌    | 220/400 [07:33<06:07,  2.04s/it]"
     ]
    },
    {
     "name": "stdout",
     "output_type": "stream",
     "text": [
      "Epoch: 220 Train_Loss: 2191413.5 Test_Loss: 2189536.5 Learning_Rate: 0.00016048609337213828\n"
     ]
    },
    {
     "name": "stderr",
     "output_type": "stream",
     "text": [
      " 57%|█████▊    | 230/400 [07:53<05:50,  2.06s/it]"
     ]
    },
    {
     "name": "stdout",
     "output_type": "stream",
     "text": [
      "Epoch: 230 Train_Loss: 2161406.25 Test_Loss: 2158142.0 Learning_Rate: 0.0001588884350879491\n"
     ]
    },
    {
     "name": "stderr",
     "output_type": "stream",
     "text": [
      " 60%|██████    | 240/400 [08:13<05:25,  2.04s/it]"
     ]
    },
    {
     "name": "stdout",
     "output_type": "stream",
     "text": [
      "Epoch: 240 Train_Loss: 2128793.5 Test_Loss: 2130688.0 Learning_Rate: 0.00015730668168336293\n"
     ]
    },
    {
     "name": "stderr",
     "output_type": "stream",
     "text": [
      " 62%|██████▎   | 250/400 [08:33<05:17,  2.11s/it]"
     ]
    },
    {
     "name": "stdout",
     "output_type": "stream",
     "text": [
      "Epoch: 250 Train_Loss: 2112207.25 Test_Loss: 2105402.5 Learning_Rate: 0.00015574067482339803\n"
     ]
    },
    {
     "name": "stderr",
     "output_type": "stream",
     "text": [
      " 65%|██████▌   | 260/400 [08:54<05:05,  2.18s/it]"
     ]
    },
    {
     "name": "stdout",
     "output_type": "stream",
     "text": [
      "Epoch: 260 Train_Loss: 2085852.5 Test_Loss: 2082620.75 Learning_Rate: 0.0001541902577493165\n"
     ]
    },
    {
     "name": "stderr",
     "output_type": "stream",
     "text": [
      " 68%|██████▊   | 270/400 [09:15<04:42,  2.17s/it]"
     ]
    },
    {
     "name": "stdout",
     "output_type": "stream",
     "text": [
      "Epoch: 270 Train_Loss: 2051257.625 Test_Loss: 2060850.75 Learning_Rate: 0.00015265527526293226\n"
     ]
    },
    {
     "name": "stderr",
     "output_type": "stream",
     "text": [
      " 70%|███████   | 280/400 [09:36<04:22,  2.19s/it]"
     ]
    },
    {
     "name": "stdout",
     "output_type": "stream",
     "text": [
      "Epoch: 280 Train_Loss: 2039521.375 Test_Loss: 2038362.25 Learning_Rate: 0.00015113557371107596\n"
     ]
    },
    {
     "name": "stderr",
     "output_type": "stream",
     "text": [
      " 72%|███████▎  | 290/400 [09:57<03:58,  2.16s/it]"
     ]
    },
    {
     "name": "stdout",
     "output_type": "stream",
     "text": [
      "Epoch: 290 Train_Loss: 2016325.125 Test_Loss: 2015245.0 Learning_Rate: 0.00014963100097021377\n"
     ]
    },
    {
     "name": "stderr",
     "output_type": "stream",
     "text": [
      " 75%|███████▌  | 300/400 [10:18<03:37,  2.18s/it]"
     ]
    },
    {
     "name": "stdout",
     "output_type": "stream",
     "text": [
      "Epoch: 300 Train_Loss: 2003570.125 Test_Loss: 1998004.0 Learning_Rate: 0.00014814140643122002\n"
     ]
    },
    {
     "name": "stderr",
     "output_type": "stream",
     "text": [
      " 78%|███████▊  | 310/400 [10:39<03:07,  2.08s/it]"
     ]
    },
    {
     "name": "stdout",
     "output_type": "stream",
     "text": [
      "Epoch: 310 Train_Loss: 1988154.625 Test_Loss: 1982326.375 Learning_Rate: 0.00014666664098430084\n"
     ]
    },
    {
     "name": "stderr",
     "output_type": "stream",
     "text": [
      " 80%|████████  | 320/400 [10:58<02:44,  2.06s/it]"
     ]
    },
    {
     "name": "stdout",
     "output_type": "stream",
     "text": [
      "Epoch: 320 Train_Loss: 1958893.375 Test_Loss: 1961877.625 Learning_Rate: 0.00014520655700406827\n"
     ]
    },
    {
     "name": "stderr",
     "output_type": "stream",
     "text": [
      " 82%|████████▎ | 330/400 [11:18<02:22,  2.03s/it]"
     ]
    },
    {
     "name": "stdout",
     "output_type": "stream",
     "text": [
      "Epoch: 330 Train_Loss: 1949860.625 Test_Loss: 1948376.5 Learning_Rate: 0.00014376100833476277\n"
     ]
    },
    {
     "name": "stderr",
     "output_type": "stream",
     "text": [
      " 85%|████████▌ | 340/400 [11:38<02:01,  2.03s/it]"
     ]
    },
    {
     "name": "stdout",
     "output_type": "stream",
     "text": [
      "Epoch: 340 Train_Loss: 1937184.75 Test_Loss: 1936358.625 Learning_Rate: 0.00014232985027562276\n"
     ]
    },
    {
     "name": "stderr",
     "output_type": "stream",
     "text": [
      " 88%|████████▊ | 350/400 [11:57<01:42,  2.06s/it]"
     ]
    },
    {
     "name": "stdout",
     "output_type": "stream",
     "text": [
      "Epoch: 350 Train_Loss: 1923868.125 Test_Loss: 1922232.5 Learning_Rate: 0.00014091293956640033\n"
     ]
    },
    {
     "name": "stderr",
     "output_type": "stream",
     "text": [
      " 90%|█████████ | 360/400 [12:17<01:20,  2.02s/it]"
     ]
    },
    {
     "name": "stdout",
     "output_type": "stream",
     "text": [
      "Epoch: 360 Train_Loss: 1911890.25 Test_Loss: 1909692.5 Learning_Rate: 0.00013951013437302036\n"
     ]
    },
    {
     "name": "stderr",
     "output_type": "stream",
     "text": [
      " 92%|█████████▎| 370/400 [12:37<01:01,  2.06s/it]"
     ]
    },
    {
     "name": "stdout",
     "output_type": "stream",
     "text": [
      "Epoch: 370 Train_Loss: 1897585.25 Test_Loss: 1897279.875 Learning_Rate: 0.00013812129427338282\n"
     ]
    },
    {
     "name": "stderr",
     "output_type": "stream",
     "text": [
      " 95%|█████████▌| 380/400 [12:57<00:41,  2.05s/it]"
     ]
    },
    {
     "name": "stdout",
     "output_type": "stream",
     "text": [
      "Epoch: 380 Train_Loss: 1890469.875 Test_Loss: 1884861.0 Learning_Rate: 0.00013674628024330668\n"
     ]
    },
    {
     "name": "stderr",
     "output_type": "stream",
     "text": [
      " 98%|█████████▊| 390/400 [13:17<00:20,  2.07s/it]"
     ]
    },
    {
     "name": "stdout",
     "output_type": "stream",
     "text": [
      "Epoch: 390 Train_Loss: 1887446.25 Test_Loss: 1879790.75 Learning_Rate: 0.00013538495464261317\n"
     ]
    },
    {
     "name": "stderr",
     "output_type": "stream",
     "text": [
      "100%|██████████| 400/400 [13:36<00:00,  2.04s/it]"
     ]
    },
    {
     "name": "stdout",
     "output_type": "stream",
     "text": [
      "Epoch: 400 Train_Loss: 1878826.25 Test_Loss: 1867709.5 Learning_Rate: 0.00013403718120134813\n"
     ]
    },
    {
     "name": "stderr",
     "output_type": "stream",
     "text": [
      "\n"
     ]
    }
   ],
   "source": [
    "optimizer = optim.Adam(model.parameters(), lr = 0.0002)\n",
    "scheduler = ExponentialLR(optimizer, gamma=0.999)\n",
    "cuda0 = torch.device('cuda:0')\n",
    "\n",
    "train_loss_list = []\n",
    "test_loss_list = []\n",
    "\n",
    "for epoch in tqdm(range(400)):\n",
    "    optimizer.zero_grad()\n",
    "    for x_train, y_train in train_loader:\n",
    "        x_train = x_train.cuda()\n",
    "        outputs, mu, log_var = model(x_train)\n",
    "        loss = loss_f(outputs, x_train, mu, log_var)\n",
    "        loss.backward()\n",
    "        optimizer.step()\n",
    "    scheduler.step()\n",
    "    if (epoch + 1) % 10 == 0:\n",
    "        for x_test, y_test in test_loader:\n",
    "            x_test = x_test.cuda()\n",
    "            outputs, mu, log_var = model(x_test)\n",
    "            test_loss = loss_f(outputs, x_test, mu, log_var)\n",
    "        print(\"Epoch:\", epoch + 1, \"Train_Loss:\", loss.item(), \"Test_Loss:\", test_loss.item(), \"Learning_Rate:\", scheduler.optimizer.param_groups[0]['lr'])\n",
    "        train_loss_list.append(loss.item())\n",
    "        test_loss_list.append(test_loss.item())"
   ]
  },
  {
   "cell_type": "code",
   "execution_count": 142,
   "metadata": {},
   "outputs": [
    {
     "data": {
      "text/plain": [
       "[<matplotlib.lines.Line2D at 0x1ef2a4bb200>]"
      ]
     },
     "execution_count": 142,
     "metadata": {},
     "output_type": "execute_result"
    },
    {
     "data": {
      "image/png": "[encoded data removed]",
      "text/plain": [
       "<Figure size 640x480 with 2 Axes>"
      ]
     },
     "metadata": {},
     "output_type": "display_data"
    }
   ],
   "source": [
    "fig, ax = plt.subplots(2)\n",
    "ax[0].plot(train_loss_list)\n",
    "ax[1].plot(test_loss_list)"
   ]
  },
  {
   "cell_type": "code",
   "execution_count": 155,
   "metadata": {},
   "outputs": [
    {
     "data": {
      "text/plain": [
       "<matplotlib.image.AxesImage at 0x1ef2a4199d0>"
      ]
     },
     "execution_count": 155,
     "metadata": {},
     "output_type": "execute_result"
    },
    {
     "data": {
      "image/png": "[encoded data removed]",
      "text/plain": [
       "<Figure size 640x480 with 2 Axes>"
      ]
     },
     "metadata": {},
     "output_type": "display_data"
    }
   ],
   "source": [
    "fig, ax = plt.subplots(2)\n",
    "torch.no_grad()\n",
    "x_train, y_train = next(iter(train_loader))\n",
    "x_train = x_train.cuda()\n",
    "outputs, mu, log_var = model(x_train)\n",
    "outputs = outputs.cpu().detach().numpy()\n",
    "ax[0].imshow(x_train.cpu()[0,0])\n",
    "ax[1].imshow(outputs[0,0])"
   ]
  },
  {
   "cell_type": "code",
   "execution_count": 156,
   "metadata": {},
   "outputs": [],
   "source": [
    "import pickle\n",
    "with open('checkpoint2.pickle', 'wb') as handle:\n",
    "    pickle.dump(model, handle, protocol=pickle.HIGHEST_PROTOCOL)"
   ]
  }
 ],
 "metadata": {
  "kernelspec": {
   "display_name": "machine_learning",
   "language": "python",
   "name": "python3"
  },
  "language_info": {
   "codemirror_mode": {
    "name": "ipython",
    "version": 3
   },
   "file_extension": ".py",
   "mimetype": "text/x-python",
   "name": "python",
   "nbconvert_exporter": "python",
   "pygments_lexer": "ipython3",
   "version": "3.12.7"
  }
 },
 "nbformat": 4,
 "nbformat_minor": 2
}
